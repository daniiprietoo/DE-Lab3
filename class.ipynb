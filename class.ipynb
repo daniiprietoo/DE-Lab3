{
 "cells": [
  {
   "cell_type": "code",
   "execution_count": 1,
   "id": "8453659c",
   "metadata": {},
   "outputs": [],
   "source": [
    "import os\n",
    "import pydicom\n",
    "import pandas as pd\n",
    "import matplotlib.pyplot as plt\n",
    "from glob import glob"
   ]
  },
  {
   "cell_type": "code",
   "execution_count": null,
   "id": "a5aaf7ef",
   "metadata": {},
   "outputs": [
    {
     "ename": "SyntaxError",
     "evalue": "'in' expected after for-loop variables (2971245568.py, line 4)",
     "output_type": "error",
     "traceback": [
      "  \u001b[36mCell\u001b[39m\u001b[36m \u001b[39m\u001b[32mIn[3]\u001b[39m\u001b[32m, line 4\u001b[39m\n\u001b[31m    \u001b[39m\u001b[31mdicom_data = pd.DataFrame([{'path': filepath} for file path in glob(DICOM_FILES_PATH)])\u001b[39m\n                                                           ^\n\u001b[31mSyntaxError\u001b[39m\u001b[31m:\u001b[39m 'in' expected after for-loop variables\n"
     ]
    }
   ],
   "source": [
    "DATA_PATH = 'data/'  # Update this path to your DICOM files directory\n",
    "\n",
    "DICOM_FILES_PATH = os.path.join(DATA_PATH, '*.dcm')\n",
    "dicom_data = pd.DataFrame([{'path': filepath} for filepath in glob(DICOM_FILES_PATH)])\n",
    "dicom_data['file'] = dicom_data['path'].map(os.path.basename)"
   ]
  },
  {
   "cell_type": "code",
   "execution_count": null,
   "id": "a43d54ad",
   "metadata": {},
   "outputs": [],
   "source": [
    "# Show 16 DICOM images in a 4x4 grid\n",
    "img_data = list(dicom_data[:16].T.to_dict().values())\n",
    "f, ax = plt.subplots(4,4, figsize=(16,20))\n",
    "for i,data_row in enumerate(img_data):\n",
    "data_row_img = pydicom.dcmread(data_row['path'])\n",
    "ax[i//4, i%4].imshow(data_row_img.pixel_array, cmap=plt.cm.bone)\n",
    "plt.show()"
   ]
  }
 ],
 "metadata": {
  "kernelspec": {
   "display_name": "de-3",
   "language": "python",
   "name": "python3"
  },
  "language_info": {
   "codemirror_mode": {
    "name": "ipython",
    "version": 3
   },
   "file_extension": ".py",
   "mimetype": "text/x-python",
   "name": "python",
   "nbconvert_exporter": "python",
   "pygments_lexer": "ipython3",
   "version": "3.13.5"
  }
 },
 "nbformat": 4,
 "nbformat_minor": 5
}
